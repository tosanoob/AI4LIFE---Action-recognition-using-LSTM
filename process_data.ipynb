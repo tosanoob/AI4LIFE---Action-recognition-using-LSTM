{
  "cells": [
    {
      "cell_type": "code",
      "execution_count": 1,
      "metadata": {
        "id": "Ph6CG8L_DQc9"
      },
      "outputs": [],
      "source": [
        "import os\n",
        "# directory_path/label_folder/video.mp4 (or .mov, .MOV)\n",
        "directory_path = \"Data - Vòng loại/\" # Thư mục gốc gồm các folder cho mỗi nhãn, chứa các video\n",
        "save_directory = \"Processed data txt/\" # Thư mục chứa output là danh sách skeleton keypoint cho từng frame"
      ]
    },
    {
      "cell_type": "code",
      "execution_count": 2,
      "metadata": {
        "id": "bYaZceJqDUzm"
      },
      "outputs": [],
      "source": [
        "import mediapipe as mp\n",
        "import cv2\n",
        "pose = mp.solutions.pose.Pose()\n",
        "\n",
        "def calculate_bounding_box(landmarks):\n",
        "    min_x = min(landmark.x for landmark in landmarks)\n",
        "    min_y = min(landmark.y for landmark in landmarks)\n",
        "    max_x = max(landmark.x for landmark in landmarks)\n",
        "    max_y = max(landmark.y for landmark in landmarks)\n",
        "\n",
        "    return BoundingBox(min_x, min_y, max_x, max_y)\n",
        "\n",
        "class BoundingBox:\n",
        "    def __init__(self, top, left, bottom, right):\n",
        "        self.top = top\n",
        "        self.left = left\n",
        "        self.bottom = bottom\n",
        "        self.right = right\n",
        "\n",
        "def recalculate_landmarks(landmarks, bounding_box):\n",
        "  for landmark in landmarks:\n",
        "    landmark.x = (landmark.x - bounding_box.top)/(bounding_box.bottom - bounding_box.top)\n",
        "    landmark.y = (landmark.y - bounding_box.left)/(bounding_box.right - bounding_box.left)\n",
        "  return landmarks\n",
        "\n",
        "def make_landmark_timestep(landmarks):\n",
        "  c_lm = []\n",
        "  for landmark in landmarks:\n",
        "    c_lm.append(landmark.x)\n",
        "    c_lm.append(landmark.y)\n",
        "    c_lm.append(landmark.z)\n",
        "    c_lm.append(landmark.visibility)\n",
        "  return c_lm\n",
        "\n",
        "def load_video(video_path): # mỗi video trả về một list result_landmarks cho mỗi video\n",
        "    cap = cv2.VideoCapture(video_path)\n",
        "    result_landmarks = []\n",
        "    while cap.isOpened():\n",
        "        # Đọc frame\n",
        "        ret, frame = cap.read()\n",
        "        if not ret:\n",
        "          break\n",
        "        # Chuyển đổi frame sang RGB\n",
        "        frame_rgb = cv2.cvtColor(frame, cv2.COLOR_BGR2RGB)\n",
        "        # Xác định pose_skeleton\n",
        "        results = pose.process(frame_rgb)\n",
        "        if results.pose_landmarks:\n",
        "            landmarks = results.pose_landmarks.landmark\n",
        "            # Xác định bao tương đối của skeleton\n",
        "            bounding_box = calculate_bounding_box(landmarks)\n",
        "            # Resize skeleton để trải rộng trong phạm vi [0,1]\n",
        "            resized_landmarks = recalculate_landmarks(landmarks, bounding_box)\n",
        "            # Lưu vào tập result_landmarks:\n",
        "            result_landmarks.append(make_landmark_timestep(resized_landmarks))\n",
        "    cap.release()\n",
        "    return result_landmarks # sau đó ghi vào csv\n"
      ]
    },
    {
      "cell_type": "code",
      "execution_count": 5,
      "metadata": {
        "id": "RtmB_gbUXgyI"
      },
      "outputs": [],
      "source": [
        "import pandas as pd\n",
        "\n",
        "def loop_data_for_label(directory_path,save_directory):\n",
        "  list_label = os.listdir(directory_path)\n",
        "  for label_folder in list_label:\n",
        "    subpath = os.path.join(directory_path,label_folder)\n",
        "    save_subpath = os.path.join(save_directory,label_folder)\n",
        "    count = 0\n",
        "    video_list = os.listdir(subpath)\n",
        "    for video in video_list:\n",
        "      count+=1\n",
        "      extracted_data = load_video(os.path.join(subpath,video))\n",
        "      df = pd.DataFrame(extracted_data)\n",
        "      df.to_csv(save_subpath+\"/\"+str(count)+\".txt\")\n",
        "    print(\"processed \"+label_folder)"
      ]
    },
    {
      "cell_type": "code",
      "execution_count": 6,
      "metadata": {},
      "outputs": [
        {
          "name": "stdout",
          "output_type": "stream",
          "text": [
            "processed decline bench press\n",
            "processed hammer curl\n",
            "processed hip thrust\n",
            "processed incline bench press\n",
            "Data processed\n"
          ]
        }
      ],
      "source": [
        "list_label = os.listdir(directory_path)\n",
        "loop_data_for_label(directory_path,save_directory)\n",
        "print(\"Data processed\")"
      ]
    }
  ],
  "metadata": {
    "colab": {
      "provenance": []
    },
    "kernelspec": {
      "display_name": "Python 3",
      "name": "python3"
    },
    "language_info": {
      "codemirror_mode": {
        "name": "ipython",
        "version": 3
      },
      "file_extension": ".py",
      "mimetype": "text/x-python",
      "name": "python",
      "nbconvert_exporter": "python",
      "pygments_lexer": "ipython3",
      "version": "3.11.7"
    }
  },
  "nbformat": 4,
  "nbformat_minor": 0
}
