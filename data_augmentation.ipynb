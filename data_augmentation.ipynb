{
 "cells": [
  {
   "cell_type": "code",
   "execution_count": null,
   "metadata": {},
   "outputs": [],
   "source": [
    "# Sử dụng moviepy editor để thực hiện phép lật, xoay và crop video\n",
    "from moviepy.editor import *\n",
    "import os\n",
    "def rotate(path_in, path_out): # crop out the \".mp4\"\n",
    "    video = VideoFileClip(path_in)\n",
    "    original_size = video.size\n",
    "    rotate_left = video.rotate(15)\n",
    "    new_size = rotate_left.size\n",
    "    rotate_left = rotate_left.crop(x_center=new_size[0]//2,y_center=new_size[1]//2,width=original_size[0],height=original_size[1])\n",
    "    rotate_right = video.rotate(-15)\n",
    "    rotate_right = rotate_right.crop(x_center=new_size[0]//2,y_center=new_size[1]//2,width=original_size[0],height=original_size[1])\n",
    "    rotate_left.write_videofile(path_out+\"_rl.mp4\",logger=None)\n",
    "    rotate_right.write_videofile(path_out+\"_rr.mp4\",logger=None)\n",
    "\n",
    "def crop(path_in,path_out):\n",
    "    video = VideoFileClip(path_in)\n",
    "    size = video.size\n",
    "    # crop left equation\n",
    "    # left = x1 = 0\n",
    "    # right = x2 = \n",
    "    crop_left = video.crop(x1=0,width = int(size[0]*0.8))\n",
    "    crop_right = video.crop(x2=size[0],width = int(0.8*size[0]))\n",
    "    crop_left.write_videofile(path_out+\"_cl.mp4\",logger=None)\n",
    "    crop_right.write_videofile(path_out+\"_cr.mp4\",logger=None)\n",
    "\n",
    "def flip(path_in,path_out):\n",
    "    video = VideoFileClip(path_in)\n",
    "    flip = video.fx(vfx.mirror_x)\n",
    "    flip.write_videofile(path_out+\"_flip.mp4\",logger=None)"
   ]
  },
  {
   "cell_type": "code",
   "execution_count": null,
   "metadata": {},
   "outputs": [],
   "source": [
    "# định nghĩa hàm lặp xử lý theo thư mục\n",
    "def loop_and_flip(directory_path): # tạo một bản lật ngang cho mỗi video trong thư mục\n",
    "    list_label = os.listdir(directory_path)\n",
    "    for label_folder in list_label:\n",
    "        subpath = os.path.join(directory_path,label_folder)\n",
    "        video_list = os.listdir(subpath)\n",
    "        for video in video_list:\n",
    "            path = os.path.join(subpath,video)\n",
    "            flip(path,path)\n",
    "\n",
    "def loop_and_mix(directory_path): # tạo các bản crop trái/phải, xoay trái/phải cho mỗi video trong thư mục\n",
    "    list_label = os.listdir(directory_path)\n",
    "    for label_folder in list_label:\n",
    "        count = 0\n",
    "        subpath = os.path.join(directory_path,label_folder)\n",
    "        video_list = os.listdir(subpath)\n",
    "        for video in video_list:\n",
    "            path = os.path.join(subpath,video)\n",
    "            crop(path,path)\n",
    "            count+=2\n",
    "            rotate(path,path)\n",
    "            count+=2\n",
    "            if count>250:\n",
    "                break"
   ]
  },
  {
   "cell_type": "code",
   "execution_count": null,
   "metadata": {},
   "outputs": [],
   "source": [
    "# chạy loop_and_flip => 1 video sẽ có thêm 1 bản lật ngang\n",
    "directory_path = \"Data - Vòng loại/\"\n",
    "loop_and_flip(directory_path)"
   ]
  },
  {
   "cell_type": "code",
   "execution_count": null,
   "metadata": {},
   "outputs": [],
   "source": [
    "# sau khi chạy loop_and_flip, chạy loop_and_mix sẽ thêm 4 video cho mỗi video tìm thấy\n",
    "# từ 1 video ban đầu trở thành 10 video\n",
    "loop_and_mix(directory_path) "
   ]
  }
 ],
 "metadata": {
  "kernelspec": {
   "display_name": "test_env",
   "language": "python",
   "name": "python3"
  },
  "language_info": {
   "codemirror_mode": {
    "name": "ipython",
    "version": 3
   },
   "file_extension": ".py",
   "mimetype": "text/x-python",
   "name": "python",
   "nbconvert_exporter": "python",
   "pygments_lexer": "ipython3",
   "version": "3.11.7"
  }
 },
 "nbformat": 4,
 "nbformat_minor": 2
}
